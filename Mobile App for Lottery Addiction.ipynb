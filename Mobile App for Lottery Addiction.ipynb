{
 "cells": [
  {
   "cell_type": "markdown",
   "id": "af0137f0-2fc5-4938-ad8d-c7ff77c376f5",
   "metadata": {},
   "source": [
    "# Mobile App for Lottery Addiction\n",
    "\n",
    "In this project, we are going to contribute to the development of a mobile app by writing a couple of functions that are mostly focused on calculating probabilities. The app is aimed to both prevent and treat lottery addiction by helping people better estimate their chances of winning.\n",
    "\n",
    "The app idea comes from a medical institute which is specialized in treating gambling addictions. The institute already has a team of engineers that will build the app, but they need us to create the logical core of the app and calculate probabilities. For the first version of the app, they want us to focus on the 6/49 lottery and build functions that can answer users the following questions:\n",
    "\n",
    "* What is the probability of winning the big prize with a single ticket?\n",
    "* What is the probability of winning the big prize if we play 40 different tickets (or any other number)?\n",
    "* What is the probability of having at least five (or four, or three) winning numbers on a single ticket?\n",
    "\n",
    "The scenario we're following throughout this project is fictional — the main purpose is to practice applying probability and combinatorics (permutations and combinations) concepts in a setting that simulates a real-world scenario."
   ]
  },
  {
   "cell_type": "markdown",
   "id": "9a06372e-40d0-4458-a825-a6df80475fac",
   "metadata": {},
   "source": [
    "***\n",
    "### Core Functions\n",
    "\n",
    "Below, we're going to write two functions that we'll be using frequently:\n",
    "\n",
    "* `factorial()` — a function that calculates factorials\n",
    "* `combinations()` — a function that calculates combinations"
   ]
  },
  {
   "cell_type": "code",
   "execution_count": 1,
   "id": "b3abbf9b-f443-464c-b7fe-91a25d05d177",
   "metadata": {},
   "outputs": [],
   "source": [
    "# Factorial Calculation\n",
    "def factorial(n):\n",
    "    fac = 1\n",
    "    for i in range(n):\n",
    "        p = i+1\n",
    "        fac *= p\n",
    "    return fac\n",
    "\n",
    "# Find Number of Combinations\n",
    "def combinations(n,k):\n",
    "    numerator = factorial(n)\n",
    "    denominator = factorial(k)*factorial(n-k)\n",
    "    return numerator/denominator\n",
    "\n"
   ]
  },
  {
   "cell_type": "markdown",
   "id": "017393f4-f7d1-43d5-8689-52252728222e",
   "metadata": {},
   "source": [
    "***\n",
    "### One-ticket Probability\n",
    "\n",
    "We need to build a function that calculates the probability of winning the big prize for any given ticket. For each drawing, six numbers are drawn from a set of 49, and a player wins the big prize if the six numbers on their tickets match all six numbers.\n",
    "\n",
    "The engineer team told us that we need to be aware of the following details when we write the function:\n",
    "\n",
    "* Inside the app, the user inputs six different numbers from 1 to 49.\n",
    "* Under the hood, the six numbers will come as a Python list and serve as an input to our function.\n",
    "* The engineering team wants the function to print the probability value in a friendly way — in a way that people without any probability training are able to understand.\n",
    "\n",
    "Below, we write the `one_ticket_probability()` function, which takes in a list of six unique numbers and prints the probability of winning in a way that's easy to understand."
   ]
  },
  {
   "cell_type": "code",
   "execution_count": 5,
   "id": "223d8b49-7b74-4fe4-a4fb-f5f68298ac2f",
   "metadata": {},
   "outputs": [],
   "source": [
    "def one_ticket_probability(six_list):\n",
    "    tot_num = combinations(49,6)\n",
    "    prob_one_ticket = 1/tot_num\n",
    "    prob_perc = prob_one_ticket*100\n",
    "    out_str = \"The probability of winning with the numbers {} is: {:.7f}%\".format(six_list,prob_perc)\n",
    "    print(out_str)\n"
   ]
  },
  {
   "cell_type": "markdown",
   "id": "cbb10963-9c10-40f9-b73e-0e98e248d79f",
   "metadata": {},
   "source": [
    "We now test a bit the function on two different outputs."
   ]
  },
  {
   "cell_type": "code",
   "execution_count": 6,
   "id": "f4681cf1-9d03-43d4-a922-040f94f97d03",
   "metadata": {},
   "outputs": [
    {
     "name": "stdout",
     "output_type": "stream",
     "text": [
      "The probability of winning with the numbers [3, 16, 14, 9, 43, 22] is: 0.0000072%\n"
     ]
    }
   ],
   "source": [
    "test_input_1 = [3, 16, 14, 9, 43, 22]\n",
    "one_ticket_probability(test_input_1)"
   ]
  },
  {
   "cell_type": "code",
   "execution_count": 8,
   "id": "4879cbf3-f91d-4ba4-9a44-e12091ee3cbc",
   "metadata": {},
   "outputs": [
    {
     "name": "stdout",
     "output_type": "stream",
     "text": [
      "The probability of winning with the numbers [10, 14, 18, 24, 35, 44] is: 0.0000072%\n"
     ]
    }
   ],
   "source": [
    "test_input_2 = [10, 14, 18, 24, 35, 44]\n",
    "one_ticket_probability(test_input_2)"
   ]
  },
  {
   "cell_type": "markdown",
   "id": "558ef16e-ecd7-457a-81a2-de966b14a8bb",
   "metadata": {},
   "source": [
    "***\n",
    "### Historical Data Check for Canada Lottery\n",
    "\n",
    "The institute also wants us to consider the data coming from the national 6/49 lottery game in Canada. The data set contains historical data for 3,665 drawings, dating from 1982 to 2018 (the data set can be downloaded from <a href=https://www.kaggle.com/datascienceai/lottery-dataset>here</a>)."
   ]
  },
  {
   "cell_type": "code",
   "execution_count": 12,
   "id": "77aace6d-4a5a-4589-a348-4fc0c6e376fc",
   "metadata": {},
   "outputs": [
    {
     "data": {
      "text/html": [
       "<div>\n",
       "<style scoped>\n",
       "    .dataframe tbody tr th:only-of-type {\n",
       "        vertical-align: middle;\n",
       "    }\n",
       "\n",
       "    .dataframe tbody tr th {\n",
       "        vertical-align: top;\n",
       "    }\n",
       "\n",
       "    .dataframe thead th {\n",
       "        text-align: right;\n",
       "    }\n",
       "</style>\n",
       "<table border=\"1\" class=\"dataframe\">\n",
       "  <thead>\n",
       "    <tr style=\"text-align: right;\">\n",
       "      <th></th>\n",
       "      <th>PRODUCT</th>\n",
       "      <th>DRAW NUMBER</th>\n",
       "      <th>SEQUENCE NUMBER</th>\n",
       "      <th>DRAW DATE</th>\n",
       "      <th>NUMBER DRAWN 1</th>\n",
       "      <th>NUMBER DRAWN 2</th>\n",
       "      <th>NUMBER DRAWN 3</th>\n",
       "      <th>NUMBER DRAWN 4</th>\n",
       "      <th>NUMBER DRAWN 5</th>\n",
       "      <th>NUMBER DRAWN 6</th>\n",
       "      <th>BONUS NUMBER</th>\n",
       "    </tr>\n",
       "  </thead>\n",
       "  <tbody>\n",
       "    <tr>\n",
       "      <th>0</th>\n",
       "      <td>649</td>\n",
       "      <td>1</td>\n",
       "      <td>0</td>\n",
       "      <td>6/12/1982</td>\n",
       "      <td>3</td>\n",
       "      <td>11</td>\n",
       "      <td>12</td>\n",
       "      <td>14</td>\n",
       "      <td>41</td>\n",
       "      <td>43</td>\n",
       "      <td>13</td>\n",
       "    </tr>\n",
       "    <tr>\n",
       "      <th>1</th>\n",
       "      <td>649</td>\n",
       "      <td>2</td>\n",
       "      <td>0</td>\n",
       "      <td>6/19/1982</td>\n",
       "      <td>8</td>\n",
       "      <td>33</td>\n",
       "      <td>36</td>\n",
       "      <td>37</td>\n",
       "      <td>39</td>\n",
       "      <td>41</td>\n",
       "      <td>9</td>\n",
       "    </tr>\n",
       "    <tr>\n",
       "      <th>2</th>\n",
       "      <td>649</td>\n",
       "      <td>3</td>\n",
       "      <td>0</td>\n",
       "      <td>6/26/1982</td>\n",
       "      <td>1</td>\n",
       "      <td>6</td>\n",
       "      <td>23</td>\n",
       "      <td>24</td>\n",
       "      <td>27</td>\n",
       "      <td>39</td>\n",
       "      <td>34</td>\n",
       "    </tr>\n",
       "    <tr>\n",
       "      <th>3662</th>\n",
       "      <td>649</td>\n",
       "      <td>3589</td>\n",
       "      <td>0</td>\n",
       "      <td>6/13/2018</td>\n",
       "      <td>6</td>\n",
       "      <td>22</td>\n",
       "      <td>24</td>\n",
       "      <td>31</td>\n",
       "      <td>32</td>\n",
       "      <td>34</td>\n",
       "      <td>16</td>\n",
       "    </tr>\n",
       "    <tr>\n",
       "      <th>3663</th>\n",
       "      <td>649</td>\n",
       "      <td>3590</td>\n",
       "      <td>0</td>\n",
       "      <td>6/16/2018</td>\n",
       "      <td>2</td>\n",
       "      <td>15</td>\n",
       "      <td>21</td>\n",
       "      <td>31</td>\n",
       "      <td>38</td>\n",
       "      <td>49</td>\n",
       "      <td>8</td>\n",
       "    </tr>\n",
       "    <tr>\n",
       "      <th>3664</th>\n",
       "      <td>649</td>\n",
       "      <td>3591</td>\n",
       "      <td>0</td>\n",
       "      <td>6/20/2018</td>\n",
       "      <td>14</td>\n",
       "      <td>24</td>\n",
       "      <td>31</td>\n",
       "      <td>35</td>\n",
       "      <td>37</td>\n",
       "      <td>48</td>\n",
       "      <td>17</td>\n",
       "    </tr>\n",
       "  </tbody>\n",
       "</table>\n",
       "</div>"
      ],
      "text/plain": [
       "      PRODUCT  DRAW NUMBER  SEQUENCE NUMBER  DRAW DATE  NUMBER DRAWN 1  \\\n",
       "0         649            1                0  6/12/1982               3   \n",
       "1         649            2                0  6/19/1982               8   \n",
       "2         649            3                0  6/26/1982               1   \n",
       "3662      649         3589                0  6/13/2018               6   \n",
       "3663      649         3590                0  6/16/2018               2   \n",
       "3664      649         3591                0  6/20/2018              14   \n",
       "\n",
       "      NUMBER DRAWN 2  NUMBER DRAWN 3  NUMBER DRAWN 4  NUMBER DRAWN 5  \\\n",
       "0                 11              12              14              41   \n",
       "1                 33              36              37              39   \n",
       "2                  6              23              24              27   \n",
       "3662              22              24              31              32   \n",
       "3663              15              21              31              38   \n",
       "3664              24              31              35              37   \n",
       "\n",
       "      NUMBER DRAWN 6  BONUS NUMBER  \n",
       "0                 43            13  \n",
       "1                 41             9  \n",
       "2                 39            34  \n",
       "3662              34            16  \n",
       "3663              49             8  \n",
       "3664              48            17  "
      ]
     },
     "execution_count": 12,
     "metadata": {},
     "output_type": "execute_result"
    }
   ],
   "source": [
    "import pandas as pd\n",
    "lottery_canada = pd.read_csv(\"additional_files/6-49_Lottery.csv\")\n",
    "# Print first and last three rows of lottery data\n",
    "lottery_canada.iloc[[0,1,2,-3,-2,-1],:]"
   ]
  },
  {
   "cell_type": "markdown",
   "id": "8dde8fc2-4a36-405f-9d71-bb64a91d90a9",
   "metadata": {},
   "source": [
    "***\n",
    "### Function for Historical Data Check\n",
    "\n",
    "\n",
    "Function for Historical Data Check\n",
    "\n",
    "The engineering team tells us that we need to write a function that can help users determine whether they would have ever won by now using a certain combination of six numbers. These are the details we'll need to be aware of:\n",
    "\n",
    "* Inside the app, the user inputs six different numbers from 1 to 49.\n",
    "* Under the hood, the six numbers will come as a Python list and serve as an input to our function.\n",
    "* The engineering team wants us to write a function that prints:\n",
    "  * the number of times the combination selected occurred; and\n",
    "  * the probability of winning the big prize in the next drawing with that combination.\n",
    "\n",
    "We're going to begin by extracting all the winning numbers from the lottery data set. The extract_numbers() function will go over each row of the dataframe and extract the six winning numbers as a Python set."
   ]
  },
  {
   "cell_type": "code",
   "execution_count": 17,
   "id": "b87051f9-c04b-4b5d-83b1-8329a7539a44",
   "metadata": {},
   "outputs": [
    {
     "data": {
      "text/plain": [
       "0    {3, 41, 11, 12, 43, 14}\n",
       "1    {33, 36, 37, 39, 8, 41}\n",
       "2     {1, 6, 39, 23, 24, 27}\n",
       "3     {3, 9, 10, 43, 13, 20}\n",
       "4    {34, 5, 14, 47, 21, 31}\n",
       "dtype: object"
      ]
     },
     "execution_count": 17,
     "metadata": {},
     "output_type": "execute_result"
    }
   ],
   "source": [
    "def extract_numbers(row):\n",
    "    numbers = row[4:10]\n",
    "    return set(numbers)\n",
    "\n",
    "winning_numbers = lottery_canada.apply(extract_numbers,axis=1)\n",
    "winning_numbers.head()"
   ]
  },
  {
   "cell_type": "markdown",
   "id": "6d9483bc-f9a1-4a43-83b2-b6471ef531c9",
   "metadata": {},
   "source": [
    "Below, we write the check_historical_occurrence() function that takes in the user numbers and the historical numbers and prints information with respect to the number of occurrences and the probability of winning in the next drawing."
   ]
  },
  {
   "cell_type": "code",
   "execution_count": 29,
   "id": "7b562062-559d-405b-bbab-eb9eb71e707e",
   "metadata": {},
   "outputs": [],
   "source": [
    "def check_historical_occurrence(in_list,winning_numbers):\n",
    "    in_set = set(in_list)\n",
    "    winnings = winning_numbers == in_set\n",
    "    win_num = winnings.sum()\n",
    "    tot_num = winnings.shape[0]\n",
    "    print(\"The combination {} won {} times from 1982 to 2018\".format(in_list,win_num))\n",
    "    print(\"\"\"This does not affect your chances to win the big prize in the next drawing. Using the combination {} your chances to win are 0.0000072%.\n",
    "In other words, you have a 1 in 13,983,816 chances to win.\"\"\".format(in_list))"
   ]
  },
  {
   "cell_type": "code",
   "execution_count": 30,
   "id": "70b39dad-a8ef-4428-95f9-6413bde4cb81",
   "metadata": {},
   "outputs": [
    {
     "name": "stdout",
     "output_type": "stream",
     "text": [
      "The combination [33, 36, 37, 39, 8, 41] won 1 times from 1982 to 2018\n",
      "This does not affect your chances to win the big prize in the next drawing. Using the combination [33, 36, 37, 39, 8, 41] your chances to win are 0.0000072%.\n",
      "In other words, you have a 1 in 13,983,816 chances to win.\n"
     ]
    }
   ],
   "source": [
    "test_input_3 = [33, 36, 37, 39, 8, 41]\n",
    "check_historical_occurrence(test_input_3, winning_numbers)"
   ]
  },
  {
   "cell_type": "code",
   "execution_count": 31,
   "id": "023918d5-e428-4ceb-ac7d-20136b275d14",
   "metadata": {},
   "outputs": [
    {
     "name": "stdout",
     "output_type": "stream",
     "text": [
      "The combination [3, 2, 44, 22, 1, 44] won 0 times from 1982 to 2018\n",
      "This does not affect your chances to win the big prize in the next drawing. Using the combination [3, 2, 44, 22, 1, 44] your chances to win are 0.0000072%.\n",
      "In other words, you have a 1 in 13,983,816 chances to win.\n"
     ]
    }
   ],
   "source": [
    "test_input_4 = [3, 2, 44, 22, 1, 44]\n",
    "check_historical_occurrence(test_input_4, winning_numbers)"
   ]
  },
  {
   "cell_type": "markdown",
   "id": "09b16e7f-00d3-48cb-a4c9-1e5e322850a1",
   "metadata": {},
   "source": [
    "***\n",
    "### Multi-ticket Probability\n",
    "\n",
    "For the first version of the app, users should also be able to find the probability of winning if they play multiple different tickets. For instance, someone might intend to play 15 different tickets and they want to know the probability of winning the big prize.\n",
    "\n",
    "The engineering team wants us to be aware of the following details when we're writing the function:\n",
    "\n",
    "* The user will input the number of different tickets they want to play (without inputting the specific combinations they intend to play).\n",
    "* Our function will see an integer between 1 and 13,983,816 (the maximum number of different tickets).\n",
    "* The function should print information about the probability of winning the big prize depending on the number of different tickets played.\n",
    "\n",
    "The `multi_ticket_probability()` function below takes in the number of tickets and prints probability information depending on the input."
   ]
  },
  {
   "cell_type": "code",
   "execution_count": 36,
   "id": "e0d3e2c6-e620-4899-a7b9-d02c8212755a",
   "metadata": {},
   "outputs": [],
   "source": [
    "def multi_ticket_probability(ticket_num):\n",
    "    total_num = combinations(49,6)\n",
    "    win_prob = ticket_num/total_num\n",
    "    win_prob_perc = win_prob*100\n",
    "    combinations_simplified = round(total_num / ticket_num)   \n",
    "    print(\"\"\"Your chances to win the big prize with {:,} different tickets are {:.6f}%.\n",
    "        In other words, you have a 1 in {:,} chances to win.\"\"\".format(ticket_num, win_prob_perc,\n",
    "                                                               combinations_simplified))"
   ]
  },
  {
   "cell_type": "markdown",
   "id": "b4914776-740e-4b84-ba14-70e13a145765",
   "metadata": {},
   "source": [
    "Below, we run a couple of tests for our function."
   ]
  },
  {
   "cell_type": "code",
   "execution_count": 37,
   "id": "c78bdfa9-4787-4ef0-b3e3-71e70e8eac28",
   "metadata": {},
   "outputs": [
    {
     "name": "stdout",
     "output_type": "stream",
     "text": [
      "Your chances to win the big prize with 1 different tickets are 0.000007%.\n",
      "        In other words, you have a 1 in 13,983,816 chances to win.\n",
      "------------------------\n",
      "Your chances to win the big prize with 10 different tickets are 0.000072%.\n",
      "        In other words, you have a 1 in 1,398,382 chances to win.\n",
      "------------------------\n",
      "Your chances to win the big prize with 100 different tickets are 0.000715%.\n",
      "        In other words, you have a 1 in 139,838 chances to win.\n",
      "------------------------\n",
      "Your chances to win the big prize with 10,000 different tickets are 0.071511%.\n",
      "        In other words, you have a 1 in 1,398 chances to win.\n",
      "------------------------\n",
      "Your chances to win the big prize with 1,000,000 different tickets are 7.151124%.\n",
      "        In other words, you have a 1 in 14 chances to win.\n",
      "------------------------\n",
      "Your chances to win the big prize with 6,991,908 different tickets are 50.000000%.\n",
      "        In other words, you have a 1 in 2 chances to win.\n",
      "------------------------\n",
      "Your chances to win the big prize with 13,983,816 different tickets are 100.000000%.\n",
      "        In other words, you have a 1 in 1 chances to win.\n",
      "------------------------\n"
     ]
    }
   ],
   "source": [
    "test_inputs = [1, 10, 100, 10000, 1000000, 6991908, 13983816]\n",
    "\n",
    "for test_input in test_inputs:\n",
    "    multi_ticket_probability(test_input)\n",
    "    print('------------------------') # output delimiter"
   ]
  },
  {
   "cell_type": "markdown",
   "id": "5f26978d-0041-4fc3-a6ed-cd66c60fa285",
   "metadata": {},
   "source": [
    "***\n",
    "### Less Winning Numbers - Function\n",
    "\n",
    "In most 6/49 lotteries, there are smaller prizes if a player's ticket match two, three, four, or five of the six numbers drawn. This means that players might be interested in finding out the probability of having two, three, four, or five winning numbers — for the first version of the app, users should be able to find those probabilities.\n",
    "\n",
    "These are the details we need to be aware of when we write a function to make the calculations of those probabilities possible:\n",
    "\n",
    "* Inside the app, the user inputs:\n",
    "  * six different numbers from 1 to 49; and\n",
    "  * an integer between 2 and 5 that represents the number of winning numbers expected\n",
    "* Our function prints information about the probability of having a certain number of winning numbers\n",
    "\n",
    "To calculate the probabilities, we tell the engineering team that the specific combination on the ticket is irrelevant and we only need the integer between 2 and 5 representing the number of winning numbers expected. Consequently, we will write a function named `probability_less_6()` which takes in an integer and prints information about the chances of winning depending on the value of that integer.\n",
    "\n",
    "The function below calculates the probability that a player's ticket matches exactly the given number of winning numbers. If the player wants to find out the probability of having five winning numbers, the function will return the probability of having five winning numbers exactly (no more and no less). The function will not return the probability of having at least five winning numbers."
   ]
  },
  {
   "cell_type": "code",
   "execution_count": 55,
   "id": "aebeabfc-88bc-4711-81d5-fc83c57bd1e9",
   "metadata": {},
   "outputs": [],
   "source": [
    "def probability_less_6(n):\n",
    "    n_success = combinations(6,n) * combinations(43,6-n)\n",
    "    n_tot = combinations(49,6)\n",
    "    win_prob = n_success/n_tot\n",
    "    combis = round(n_tot/n_success)\n",
    "    print(\"\"\"Your chances of having {} winning numbers with this ticket are {:.6f}%.\n",
    "    In other words, you have a 1 in {:,} chances to win.\"\"\".format(n, win_prob*100,\n",
    "                                                               int(combis)))"
   ]
  },
  {
   "cell_type": "markdown",
   "id": "90bc6ad8-d9ba-463e-9688-599add5c8dfb",
   "metadata": {},
   "source": [
    "Now, let's test the function on all the three possible inputs."
   ]
  },
  {
   "cell_type": "code",
   "execution_count": 58,
   "id": "753a4cb8-594c-4ed3-b953-bf92e77f049a",
   "metadata": {},
   "outputs": [
    {
     "name": "stdout",
     "output_type": "stream",
     "text": [
      "Your chances of having 2 winning numbers with this ticket are 13.237803%.\n",
      "    In other words, you have a 1 in 8 chances to win.\n",
      "--------------------------\n",
      "Your chances of having 3 winning numbers with this ticket are 1.765040%.\n",
      "    In other words, you have a 1 in 57 chances to win.\n",
      "--------------------------\n",
      "Your chances of having 4 winning numbers with this ticket are 0.096862%.\n",
      "    In other words, you have a 1 in 1,032 chances to win.\n",
      "--------------------------\n",
      "Your chances of having 5 winning numbers with this ticket are 0.001845%.\n",
      "    In other words, you have a 1 in 54,201 chances to win.\n",
      "--------------------------\n"
     ]
    }
   ],
   "source": [
    "for test_input in [2, 3, 4, 5]:\n",
    "    probability_less_6(test_input)\n",
    "    print('--------------------------') # output delimiter"
   ]
  },
  {
   "cell_type": "markdown",
   "id": "e6e42267-e2a5-4ad9-9f14-7d31d52a8d5d",
   "metadata": {},
   "source": []
  }
 ],
 "metadata": {
  "kernelspec": {
   "display_name": "Python 3",
   "language": "python",
   "name": "python3"
  },
  "language_info": {
   "codemirror_mode": {
    "name": "ipython",
    "version": 3
   },
   "file_extension": ".py",
   "mimetype": "text/x-python",
   "name": "python",
   "nbconvert_exporter": "python",
   "pygments_lexer": "ipython3",
   "version": "3.8.8"
  }
 },
 "nbformat": 4,
 "nbformat_minor": 5
}
