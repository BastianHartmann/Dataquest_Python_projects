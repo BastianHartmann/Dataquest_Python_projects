{
 "cells": [
  {
   "cell_type": "markdown",
   "id": "3a60742d-5a53-42d1-b8e2-89ac9fef6d15",
   "metadata": {},
   "source": [
    "# Building a Handwritten Digits Classifier\n",
    "\n",
    "Deep neural networks have been used to reach state-of-the-art performance on **image classification** tasks in the last decade. For some image classification tasks, deep neural networks actually perform as well as or slightly better than the human benchmark. You can read about the history of deep neural networks <a href= https://arxiv.org/pdf/1803.01164.pdf>here</a>.\n",
    "\n",
    "Our goal in this project is to build models that can classify handwritten digits. Before the year 2000, institutions like the United States Post Office used handwriting recognition software to read addresses, zip codes, and more. One of their approaches, which consists of pre-processing handwritten images then feeding to a neural network model is detailed in <a href=http://citeseerx.ist.psu.edu/viewdoc/download?doi=10.1.1.852.5499&rep=rep1&type=pdf>this paper</a>.\n",
    "\n",
    "Here, we use the dataset of *Scikit-learn* loaded from `sklearn.datasets` using the `load_digits()` function which returns a copy of the <a href=http://archive.ics.uci.edu/ml/datasets/Optical+Recognition+of+Handwritten+Digits>hand-written digits dataset</a> from UCI."
   ]
  },
  {
   "cell_type": "code",
   "execution_count": 3,
   "id": "6ba4480f-765e-488d-bcff-ef58c01b8109",
   "metadata": {},
   "outputs": [],
   "source": [
    "from sklearn.datasets import load_digits\n",
    "import numpy as np\n",
    "import pandas as pd\n",
    "import matplotlib.pyplot as plt\n",
    "\n",
    "%matplotlib inline"
   ]
  },
  {
   "cell_type": "code",
   "execution_count": 5,
   "id": "4941570f-0e7c-4bc5-9a8a-bc6d97aa8464",
   "metadata": {},
   "outputs": [],
   "source": [
    "digits_data = load_digits()"
   ]
  },
  {
   "cell_type": "code",
   "execution_count": 24,
   "id": "16e57743-d42f-497e-9142-cd2ab8c5eabb",
   "metadata": {},
   "outputs": [
    {
     "data": {
      "text/html": [
       "<div>\n",
       "<style scoped>\n",
       "    .dataframe tbody tr th:only-of-type {\n",
       "        vertical-align: middle;\n",
       "    }\n",
       "\n",
       "    .dataframe tbody tr th {\n",
       "        vertical-align: top;\n",
       "    }\n",
       "\n",
       "    .dataframe thead th {\n",
       "        text-align: right;\n",
       "    }\n",
       "</style>\n",
       "<table border=\"1\" class=\"dataframe\">\n",
       "  <thead>\n",
       "    <tr style=\"text-align: right;\">\n",
       "      <th></th>\n",
       "      <th>0</th>\n",
       "      <th>1</th>\n",
       "      <th>2</th>\n",
       "      <th>3</th>\n",
       "      <th>4</th>\n",
       "      <th>5</th>\n",
       "      <th>6</th>\n",
       "      <th>7</th>\n",
       "      <th>8</th>\n",
       "      <th>9</th>\n",
       "      <th>...</th>\n",
       "      <th>54</th>\n",
       "      <th>55</th>\n",
       "      <th>56</th>\n",
       "      <th>57</th>\n",
       "      <th>58</th>\n",
       "      <th>59</th>\n",
       "      <th>60</th>\n",
       "      <th>61</th>\n",
       "      <th>62</th>\n",
       "      <th>63</th>\n",
       "    </tr>\n",
       "  </thead>\n",
       "  <tbody>\n",
       "    <tr>\n",
       "      <th>0</th>\n",
       "      <td>0.0</td>\n",
       "      <td>0.0</td>\n",
       "      <td>5.0</td>\n",
       "      <td>13.0</td>\n",
       "      <td>9.0</td>\n",
       "      <td>1.0</td>\n",
       "      <td>0.0</td>\n",
       "      <td>0.0</td>\n",
       "      <td>0.0</td>\n",
       "      <td>0.0</td>\n",
       "      <td>...</td>\n",
       "      <td>0.0</td>\n",
       "      <td>0.0</td>\n",
       "      <td>0.0</td>\n",
       "      <td>0.0</td>\n",
       "      <td>6.0</td>\n",
       "      <td>13.0</td>\n",
       "      <td>10.0</td>\n",
       "      <td>0.0</td>\n",
       "      <td>0.0</td>\n",
       "      <td>0.0</td>\n",
       "    </tr>\n",
       "    <tr>\n",
       "      <th>1</th>\n",
       "      <td>0.0</td>\n",
       "      <td>0.0</td>\n",
       "      <td>0.0</td>\n",
       "      <td>12.0</td>\n",
       "      <td>13.0</td>\n",
       "      <td>5.0</td>\n",
       "      <td>0.0</td>\n",
       "      <td>0.0</td>\n",
       "      <td>0.0</td>\n",
       "      <td>0.0</td>\n",
       "      <td>...</td>\n",
       "      <td>0.0</td>\n",
       "      <td>0.0</td>\n",
       "      <td>0.0</td>\n",
       "      <td>0.0</td>\n",
       "      <td>0.0</td>\n",
       "      <td>11.0</td>\n",
       "      <td>16.0</td>\n",
       "      <td>10.0</td>\n",
       "      <td>0.0</td>\n",
       "      <td>0.0</td>\n",
       "    </tr>\n",
       "    <tr>\n",
       "      <th>2</th>\n",
       "      <td>0.0</td>\n",
       "      <td>0.0</td>\n",
       "      <td>0.0</td>\n",
       "      <td>4.0</td>\n",
       "      <td>15.0</td>\n",
       "      <td>12.0</td>\n",
       "      <td>0.0</td>\n",
       "      <td>0.0</td>\n",
       "      <td>0.0</td>\n",
       "      <td>0.0</td>\n",
       "      <td>...</td>\n",
       "      <td>5.0</td>\n",
       "      <td>0.0</td>\n",
       "      <td>0.0</td>\n",
       "      <td>0.0</td>\n",
       "      <td>0.0</td>\n",
       "      <td>3.0</td>\n",
       "      <td>11.0</td>\n",
       "      <td>16.0</td>\n",
       "      <td>9.0</td>\n",
       "      <td>0.0</td>\n",
       "    </tr>\n",
       "    <tr>\n",
       "      <th>3</th>\n",
       "      <td>0.0</td>\n",
       "      <td>0.0</td>\n",
       "      <td>7.0</td>\n",
       "      <td>15.0</td>\n",
       "      <td>13.0</td>\n",
       "      <td>1.0</td>\n",
       "      <td>0.0</td>\n",
       "      <td>0.0</td>\n",
       "      <td>0.0</td>\n",
       "      <td>8.0</td>\n",
       "      <td>...</td>\n",
       "      <td>9.0</td>\n",
       "      <td>0.0</td>\n",
       "      <td>0.0</td>\n",
       "      <td>0.0</td>\n",
       "      <td>7.0</td>\n",
       "      <td>13.0</td>\n",
       "      <td>13.0</td>\n",
       "      <td>9.0</td>\n",
       "      <td>0.0</td>\n",
       "      <td>0.0</td>\n",
       "    </tr>\n",
       "    <tr>\n",
       "      <th>4</th>\n",
       "      <td>0.0</td>\n",
       "      <td>0.0</td>\n",
       "      <td>0.0</td>\n",
       "      <td>1.0</td>\n",
       "      <td>11.0</td>\n",
       "      <td>0.0</td>\n",
       "      <td>0.0</td>\n",
       "      <td>0.0</td>\n",
       "      <td>0.0</td>\n",
       "      <td>0.0</td>\n",
       "      <td>...</td>\n",
       "      <td>0.0</td>\n",
       "      <td>0.0</td>\n",
       "      <td>0.0</td>\n",
       "      <td>0.0</td>\n",
       "      <td>0.0</td>\n",
       "      <td>2.0</td>\n",
       "      <td>16.0</td>\n",
       "      <td>4.0</td>\n",
       "      <td>0.0</td>\n",
       "      <td>0.0</td>\n",
       "    </tr>\n",
       "  </tbody>\n",
       "</table>\n",
       "<p>5 rows × 64 columns</p>\n",
       "</div>"
      ],
      "text/plain": [
       "    0    1    2     3     4     5    6    7    8    9   ...   54   55   56  \\\n",
       "0  0.0  0.0  5.0  13.0   9.0   1.0  0.0  0.0  0.0  0.0  ...  0.0  0.0  0.0   \n",
       "1  0.0  0.0  0.0  12.0  13.0   5.0  0.0  0.0  0.0  0.0  ...  0.0  0.0  0.0   \n",
       "2  0.0  0.0  0.0   4.0  15.0  12.0  0.0  0.0  0.0  0.0  ...  5.0  0.0  0.0   \n",
       "3  0.0  0.0  7.0  15.0  13.0   1.0  0.0  0.0  0.0  8.0  ...  9.0  0.0  0.0   \n",
       "4  0.0  0.0  0.0   1.0  11.0   0.0  0.0  0.0  0.0  0.0  ...  0.0  0.0  0.0   \n",
       "\n",
       "    57   58    59    60    61   62   63  \n",
       "0  0.0  6.0  13.0  10.0   0.0  0.0  0.0  \n",
       "1  0.0  0.0  11.0  16.0  10.0  0.0  0.0  \n",
       "2  0.0  0.0   3.0  11.0  16.0  9.0  0.0  \n",
       "3  0.0  7.0  13.0  13.0   9.0  0.0  0.0  \n",
       "4  0.0  0.0   2.0  16.0   4.0  0.0  0.0  \n",
       "\n",
       "[5 rows x 64 columns]"
      ]
     },
     "execution_count": 24,
     "metadata": {},
     "output_type": "execute_result"
    }
   ],
   "source": [
    "digits_data_df = pd.DataFrame(digits_data[\"data\"])\n",
    "labels = pd.Series(digits_data[\"target\"])\n",
    "digits_data_df.head()"
   ]
  },
  {
   "cell_type": "markdown",
   "id": "7fac32b9-3cb9-4940-ae6b-ebc9cc8a47b6",
   "metadata": {},
   "source": [
    "To get a better feeling of the data, we visualize some images of the dataset:"
   ]
  },
  {
   "cell_type": "code",
   "execution_count": 20,
   "id": "471f2dac-83f8-4252-9f60-7f1a747b34b6",
   "metadata": {},
   "outputs": [
    {
     "data": {
      "image/png": "[encoded data removed]",
      "text/plain": [
       "<Figure size 432x288 with 8 Axes>"
      ]
     },
     "metadata": {
      "needs_background": "light"
     },
     "output_type": "display_data"
    }
   ],
   "source": [
    "fig, axs = plt.subplots(nrows=2,ncols=4)\n",
    "\n",
    "image_idxs = [0,99,199,299,999,1099,1199,1299]\n",
    "for ax, idx in zip(axs.flat,image_idxs):\n",
    "    img_row = digits_data_df.iloc[idx]\n",
    "    #img_row = img_row.drop(\"label\")\n",
    "    np_image = img_row.values\n",
    "    np_image = np_image.reshape(8,8)\n",
    "    ax.imshow(np_image,cmap=\"gray_r\")\n",
    "    ax.set_title(str(idx))"
   ]
  },
  {
   "cell_type": "markdown",
   "id": "191ccbe1-eadf-4be0-bd85-652273336e98",
   "metadata": {},
   "source": [
    "***\n",
    "### K-Nearest Neighbors Model\n",
    "\n",
    "While linear and logistic regression models make assumptions about the linearity between the features and the output labels, the k-nearest neighbors algorithm make no such assumption. This allows them to capture nonlinearity in the data.\n",
    "\n",
    "The k-nearest neighbors algorithm compares every unseen observation in the test set to all (or many, as some implementations constrain the search space) training observations to look for similar (or the \"nearest\") observations. Then, the algorithm finds the label with the most nearby observations and assigns that as the prediction for the unseen observation."
   ]
  },
  {
   "cell_type": "code",
   "execution_count": 41,
   "id": "c261111f-84e0-494a-813c-cdedfb0eee97",
   "metadata": {},
   "outputs": [],
   "source": [
    "from sklearn.neighbors import KNeighborsClassifier\n",
    "from sklearn.model_selection import KFold\n",
    "\n",
    "def train(features,target,k_num=5):\n",
    "    kn = KNeighborsClassifier(n_neighbors=k_num)\n",
    "    kn.fit(features,target)\n",
    "    return kn\n",
    "\n",
    "def test(kn,features,labels):\n",
    "    predictions = np.array(kn.predict(features))\n",
    "    labels = np.array(labels)\n",
    "    length = len(labels)\n",
    "    correct_labels = predictions == labels\n",
    "    accuracy_perc = sum(correct_labels)/length\n",
    "    return accuracy_perc\n",
    "\n",
    "def cross_validate(k):\n",
    "    fold_accuracies = []\n",
    "    kf = KFold(n_splits = 4, random_state=2 , shuffle=True)\n",
    "    for train_index, test_index in kf.split(digits_data_df):\n",
    "        train_features, test_features = digits_data_df.loc[train_index], digits_data_df.loc[test_index]\n",
    "        train_labels, test_labels = labels.loc[train_index], labels.loc[test_index]\n",
    "        kn_model = train(train_features,train_labels,k)\n",
    "        accuracy_perc = test(kn_model,test_features,test_labels)\n",
    "        fold_accuracies.append(accuracy_perc)\n",
    "    return fold_accuracies"
   ]
  },
  {
   "cell_type": "markdown",
   "id": "41064bb9-4296-4334-96dd-408d0534ba2c",
   "metadata": {},
   "source": [
    "Test for `k = 1`:"
   ]
  },
  {
   "cell_type": "code",
   "execution_count": 42,
   "id": "6b1446aa-4790-43d8-8805-20d3c792c592",
   "metadata": {},
   "outputs": [
    {
     "data": {
      "text/plain": [
       "0.9888728037614452"
      ]
     },
     "execution_count": 42,
     "metadata": {},
     "output_type": "execute_result"
    }
   ],
   "source": [
    "knn_one_accuracies = cross_validate(1)\n",
    "np.mean(knn_one_accuracies)"
   ]
  },
  {
   "cell_type": "markdown",
   "id": "1c467149-d021-4879-b8ba-b52bc30f3032",
   "metadata": {},
   "source": [
    "Varying the k-value from `1` to `10`:"
   ]
  },
  {
   "cell_type": "code",
   "execution_count": 43,
   "id": "5b4e5d94-3cfc-4831-b2f1-1d81fe2f5e9e",
   "metadata": {},
   "outputs": [
    {
     "data": {
      "text/plain": [
       "[0.9888728037614452,\n",
       " 0.9821912892848305,\n",
       " 0.9872011878247959,\n",
       " 0.9833073496659243,\n",
       " 0.9849777282850779,\n",
       " 0.9827517941103686,\n",
       " 0.9844221727295223,\n",
       " 0.9805270972531551,\n",
       " 0.9827567433803515,\n",
       " 0.9788591932689928]"
      ]
     },
     "execution_count": 43,
     "metadata": {},
     "output_type": "execute_result"
    }
   ],
   "source": [
    "k_values = list(range(1,11))\n",
    "\n",
    "accuracies = []\n",
    "for k in k_values:\n",
    "    fold_acc = cross_validate(k)\n",
    "    mean_acc = np.mean(fold_acc)\n",
    "    accuracies.append(mean_acc)\n",
    "    \n",
    "accuracies"
   ]
  },
  {
   "cell_type": "code",
   "execution_count": 53,
   "id": "f35d5a8b-7621-4d8d-860f-55dd8ea5c92d",
   "metadata": {},
   "outputs": [
    {
     "data": {
      "image/png": "[encoded data removed]",
      "text/plain": [
       "<Figure size 648x432 with 1 Axes>"
      ]
     },
     "metadata": {
      "needs_background": "light"
     },
     "output_type": "display_data"
    }
   ],
   "source": [
    "plt.figure(figsize=(9,6))\n",
    "plt.plot(k_values,accuracies)\n",
    "plt.xlabel(\"k-value\")\n",
    "plt.ylabel(\"Resulting Mean Accuracy [%]\")\n",
    "plt.title(\"Mean Accuracy vs. k-value (K-Nearest Neighbors Model)\")\n",
    "plt.show()"
   ]
  },
  {
   "cell_type": "markdown",
   "id": "056e84bc-8f16-4999-ba70-76a9b5069c46",
   "metadata": {},
   "source": [
    "***\n",
    "### Neural Network With One Hidden Layer\n",
    "\n",
    "There are a few downsides to using k-nearest neighbors:\n",
    "\n",
    "* high memory usage (for each new unseen observation, many comparisons need to be made to seen observations)\n",
    "* no model representation to debug and explore\n",
    "\n",
    "We now try a neural network with a single hidden layer."
   ]
  },
  {
   "cell_type": "code",
   "execution_count": 59,
   "id": "095ef6eb-1d67-4121-89a8-68a1343a95b8",
   "metadata": {},
   "outputs": [],
   "source": [
    "from sklearn.neural_network import MLPClassifier\n",
    "from sklearn.model_selection import KFold\n",
    "\n",
    "def train_nn(features,target,n_neurons):\n",
    "    mlp = MLPClassifier(hidden_layer_sizes=(n_neurons),max_iter=1000)\n",
    "    mlp.fit(features,target)\n",
    "    return mlp\n",
    "\n",
    "def test_nn(model,features,labels):\n",
    "    predictions = np.array(model.predict(features))\n",
    "    labels = np.array(labels)\n",
    "    length = len(labels)\n",
    "    correct_labels = predictions == labels\n",
    "    accuracy_perc = sum(correct_labels)/length\n",
    "    return accuracy_perc\n",
    "\n",
    "def cross_validate_nn(n_neurons):\n",
    "    fold_accuracies = []\n",
    "    kf = KFold(n_splits = 4, random_state=2 , shuffle=True)\n",
    "    for train_index, test_index in kf.split(digits_data_df):\n",
    "        train_features, test_features = digits_data_df.loc[train_index], digits_data_df.loc[test_index]\n",
    "        train_labels, test_labels = labels.loc[train_index], labels.loc[test_index]\n",
    "        kn_model = train_nn(train_features,train_labels,n_neurons)\n",
    "        accuracy_perc = test_nn(kn_model,test_features,test_labels)\n",
    "        fold_accuracies.append(accuracy_perc)\n",
    "    return fold_accuracies"
   ]
  },
  {
   "cell_type": "code",
   "execution_count": 60,
   "id": "c2350cda-dbd0-4cd5-b310-7f6c73ced71e",
   "metadata": {},
   "outputs": [
    {
     "data": {
      "text/plain": [
       "0.9437960900767136"
      ]
     },
     "execution_count": 60,
     "metadata": {},
     "output_type": "execute_result"
    }
   ],
   "source": [
    "accs = cross_validate_nn(8)\n",
    "np.mean(accs)"
   ]
  },
  {
   "cell_type": "code",
   "execution_count": 61,
   "id": "c8845e8d-2adb-47f0-acc1-b18e80e583d8",
   "metadata": {},
   "outputs": [
    {
     "name": "stderr",
     "output_type": "stream",
     "text": [
      "C:\\ProgramData\\Anaconda3\\lib\\site-packages\\sklearn\\neural_network\\_multilayer_perceptron.py:614: ConvergenceWarning: Stochastic Optimizer: Maximum iterations (1000) reached and the optimization hasn't converged yet.\n",
      "  warnings.warn(\n"
     ]
    },
    {
     "data": {
      "text/plain": [
       "[0.9304466716159367,\n",
       " 0.9577159119029943,\n",
       " 0.9616085127443702,\n",
       " 0.9666146993318485,\n",
       " 0.976635733729275,\n",
       " 0.9760764662212323]"
      ]
     },
     "execution_count": 61,
     "metadata": {},
     "output_type": "execute_result"
    }
   ],
   "source": [
    "neuron_number = [8, 16, 32, 64, 128, 256]\n",
    "\n",
    "accuracies_nn = []\n",
    "for n_neuron in neuron_number:\n",
    "    accs = cross_validate_nn(n_neuron)\n",
    "    mean_acc = np.mean(accs)\n",
    "    accuracies_nn.append(mean_acc)\n",
    "    \n",
    "accuracies_nn"
   ]
  },
  {
   "cell_type": "code",
   "execution_count": 67,
   "id": "44693209-c53c-460f-82e3-679b8d807788",
   "metadata": {},
   "outputs": [
    {
     "data": {
      "image/png": "[encoded data removed]",
      "text/plain": [
       "<Figure size 648x432 with 1 Axes>"
      ]
     },
     "metadata": {
      "needs_background": "light"
     },
     "output_type": "display_data"
    }
   ],
   "source": [
    "plt.figure(figsize=(9,6))\n",
    "plt.plot(neuron_number,accuracies_nn)\n",
    "plt.xlabel(\"Number of Neurons\")\n",
    "plt.ylabel(\"Resulting Mean Accuracy [%]\")\n",
    "plt.title(\"Mean Accuracy vs. Number of Neurons (Neural Network Model)\")\n",
    "plt.show()"
   ]
  },
  {
   "cell_type": "markdown",
   "id": "1dc57b93-4555-469d-9d38-9475cc4685bb",
   "metadata": {},
   "source": [
    "In summary, it looks like adding more neurons to the single hidden layer improved simple accuracy to approximately 98%. Simple accuracy computes the number of correct classifications the model made, but doesn't tell us anything about false or true positives or false or true negatives.\n",
    "\n",
    "Given that k-nearest neighbors achieved approximately 98% accuracy, there doesn't seem to be any advantages to using a single hidden layer neural network for this problem.\n",
    "\n",
    "***\n",
    "### Neural Network With Two Hidden Layers\n",
    "\n",
    "Adding more neurons to a single hidden layer vastly improved the classification accuracy.\n",
    "\n",
    "Let's try using two hidden layers and continue to increase the number of neurons in each layer."
   ]
  },
  {
   "cell_type": "code",
   "execution_count": 63,
   "id": "adc6402e-3624-407b-bb34-f8da37bbdb65",
   "metadata": {},
   "outputs": [],
   "source": [
    "from sklearn.neural_network import MLPClassifier\n",
    "from sklearn.model_selection import KFold\n",
    "\n",
    "def train_nn_2layers(features,target,n_neurons):\n",
    "    mlp = MLPClassifier(hidden_layer_sizes=(n_neurons,n_neurons),max_iter=1000)\n",
    "    mlp.fit(features,target)\n",
    "    return mlp\n",
    "\n",
    "def test_nn(model,features,labels):\n",
    "    predictions = np.array(model.predict(features))\n",
    "    labels = np.array(labels)\n",
    "    length = len(labels)\n",
    "    correct_labels = predictions == labels\n",
    "    accuracy_perc = sum(correct_labels)/length\n",
    "    return accuracy_perc\n",
    "\n",
    "def cross_validate_nn_2layers(n_neurons):\n",
    "    fold_accuracies = []\n",
    "    kf = KFold(n_splits = 4, random_state=2 , shuffle=True)\n",
    "    for train_index, test_index in kf.split(digits_data_df):\n",
    "        train_features, test_features = digits_data_df.loc[train_index], digits_data_df.loc[test_index]\n",
    "        train_labels, test_labels = labels.loc[train_index], labels.loc[test_index]\n",
    "        kn_model = train_nn_2layers(train_features,train_labels,n_neurons)\n",
    "        accuracy_perc = test_nn(kn_model,test_features,test_labels)\n",
    "        fold_accuracies.append(accuracy_perc)\n",
    "    return fold_accuracies"
   ]
  },
  {
   "cell_type": "markdown",
   "id": "01786f62-ccff-4d9e-8d04-d60326a7348d",
   "metadata": {},
   "source": [
    "We now train the neural network with two hidden layers each with `8`, `64`, `128` and `256` neurons:"
   ]
  },
  {
   "cell_type": "code",
   "execution_count": 79,
   "id": "6072cbc6-6758-49c5-bef5-011fdde3a435",
   "metadata": {},
   "outputs": [
    {
     "data": {
      "text/plain": [
       "[0.9243219500123732,\n",
       " 0.9716221232368225,\n",
       " 0.9760752289037367,\n",
       " 0.9799715416975995]"
      ]
     },
     "execution_count": 79,
     "metadata": {},
     "output_type": "execute_result"
    }
   ],
   "source": [
    "n_neur = [8,64,128,256]\n",
    "accuracies_nn_2layer = []\n",
    "\n",
    "for nn in n_neur:\n",
    "    accs = cross_validate_nn_2layers(nn)\n",
    "    mean_acc = np.mean(accs)\n",
    "    accuracies_nn_2layer.append(mean_acc)\n",
    "\n",
    "accuracies_nn_2layer"
   ]
  },
  {
   "cell_type": "code",
   "execution_count": 83,
   "id": "55d8745d-654d-49fc-b9c1-a383d66271b3",
   "metadata": {},
   "outputs": [
    {
     "data": {
      "image/png": "[encoded data removed]",
      "text/plain": [
       "<Figure size 648x432 with 1 Axes>"
      ]
     },
     "metadata": {
      "needs_background": "light"
     },
     "output_type": "display_data"
    }
   ],
   "source": [
    "plt.figure(figsize=(9,6))\n",
    "plt.plot(n_neur,accuracies_nn_2layer)\n",
    "plt.xlabel(\"Number of Neurons\")\n",
    "plt.ylabel(\"Resulting Mean Accuracy [%]\")\n",
    "plt.title(\"Mean Accuracy vs. Number of Neurons (Neural Network Model - 2 Hidden Layers)\")\n",
    "plt.show()"
   ]
  },
  {
   "cell_type": "markdown",
   "id": "a6eaa6b6-faf6-4c95-b897-b70143106ee4",
   "metadata": {},
   "source": [
    "Using 2 hidden layers improved our simple accuracy to over 98%. While I'd traditionally be worried about overfitting, using 4-fold cross validation also gives me a bit more assurance that the model is generalizing to achieve the extra 1% in simple accuracy over the single hidden layer networks we tried earlier.\n",
    "\n",
    "***\n",
    "### Neural Network With Three Hidden Layers\n",
    "\n",
    "Using more hidden layers is known to increase the amount of overfitting that happens. To help us prevent overfitting, let's increase the number of folds we use for k-fold cross validation to 6 while testing networks with 3 hidden layers."
   ]
  },
  {
   "cell_type": "code",
   "execution_count": 69,
   "id": "30d1af0c-6655-4062-b95f-97217a8d8ddd",
   "metadata": {},
   "outputs": [],
   "source": [
    "from sklearn.neural_network import MLPClassifier\n",
    "from sklearn.model_selection import KFold\n",
    "\n",
    "def train_nn_3layers(features,target,n_neurons):\n",
    "    mlp = MLPClassifier(hidden_layer_sizes=(n_neurons,n_neurons,n_neurons),max_iter=1000)\n",
    "    mlp.fit(features,target)\n",
    "    return mlp\n",
    "\n",
    "def test_nn(model,features,labels):\n",
    "    predictions = np.array(model.predict(features))\n",
    "    labels = np.array(labels)\n",
    "    length = len(labels)\n",
    "    correct_labels = predictions == labels\n",
    "    accuracy_perc = sum(correct_labels)/length\n",
    "    return accuracy_perc\n",
    "\n",
    "def cross_validate_nn_3layers(n_neurons):\n",
    "    fold_accuracies = []\n",
    "    kf = KFold(n_splits = 6, random_state=2 , shuffle=True)\n",
    "    for train_index, test_index in kf.split(digits_data_df):\n",
    "        train_features, test_features = digits_data_df.loc[train_index], digits_data_df.loc[test_index]\n",
    "        train_labels, test_labels = labels.loc[train_index], labels.loc[test_index]\n",
    "        kn_model = train_nn_2layers(train_features,train_labels,n_neurons)\n",
    "        accuracy_perc = test_nn(kn_model,test_features,test_labels)\n",
    "        fold_accuracies.append(accuracy_perc)\n",
    "    return fold_accuracies"
   ]
  },
  {
   "cell_type": "markdown",
   "id": "5fdb8123-c18c-413b-8eab-7cddeb6d237c",
   "metadata": {},
   "source": [
    "We now train the neural network with three hidden layers each with `8`, `64`, `128` and `256` neurons:"
   ]
  },
  {
   "cell_type": "code",
   "execution_count": 82,
   "id": "3071342d-4445-4045-8ddf-f9df995506f1",
   "metadata": {},
   "outputs": [
    {
     "name": "stderr",
     "output_type": "stream",
     "text": [
      "C:\\ProgramData\\Anaconda3\\lib\\site-packages\\sklearn\\neural_network\\_multilayer_perceptron.py:614: ConvergenceWarning: Stochastic Optimizer: Maximum iterations (1000) reached and the optimization hasn't converged yet.\n",
      "  warnings.warn(\n"
     ]
    },
    {
     "data": {
      "text/plain": [
       "[0.929890375325158, 0.9749665551839466, 0.9777480490523969, 0.9777573392790785]"
      ]
     },
     "execution_count": 82,
     "metadata": {},
     "output_type": "execute_result"
    }
   ],
   "source": [
    "n_3layer_neurons = [8,64,128,256]\n",
    "\n",
    "accuracies_3layer = []\n",
    "\n",
    "for nn in n_3layer_neurons:\n",
    "    accs = cross_validate_nn_3layers(nn)\n",
    "    mean_accs = np.mean(accs)\n",
    "    accuracies_3layer.append(mean_accs)\n",
    "    \n",
    "accuracies_3layer"
   ]
  },
  {
   "cell_type": "code",
   "execution_count": 84,
   "id": "8f7f4b03-01a8-46cb-a339-ba527e588e60",
   "metadata": {},
   "outputs": [
    {
     "data": {
      "image/png": "[encoded data removed]",
      "text/plain": [
       "<Figure size 648x432 with 1 Axes>"
      ]
     },
     "metadata": {
      "needs_background": "light"
     },
     "output_type": "display_data"
    }
   ],
   "source": [
    "plt.figure(figsize=(9,6))\n",
    "plt.plot(n_3layer_neurons,accuracies_3layer)\n",
    "plt.xlabel(\"Number of Neurons\")\n",
    "plt.ylabel(\"Resulting Mean Accuracy [%]\")\n",
    "plt.title(\"Mean Accuracy vs. Number of Neurons (Neural Network Model - 3 Hidden Layers)\")\n",
    "plt.show()"
   ]
  },
  {
   "cell_type": "markdown",
   "id": "79e5ce64-0c27-43d8-bd62-59ac79531020",
   "metadata": {},
   "source": [
    "Using 3 hidden layers returned a simple accuracy of nearly 98%, even with 6-fold cross validation."
   ]
  },
  {
   "cell_type": "markdown",
   "id": "18124e85-3497-45f3-9dd7-3f00087262cc",
   "metadata": {},
   "source": [
    "***\n",
    "### NN - Comparison Graph"
   ]
  },
  {
   "cell_type": "code",
   "execution_count": 85,
   "id": "b40f0749-75ea-495f-a206-0813d5ce28de",
   "metadata": {},
   "outputs": [
    {
     "data": {
      "image/png": "[encoded data removed]",
      "text/plain": [
       "<Figure size 648x432 with 1 Axes>"
      ]
     },
     "metadata": {
      "needs_background": "light"
     },
     "output_type": "display_data"
    }
   ],
   "source": [
    "plt.figure(figsize=(9,6))\n",
    "plt.plot(neuron_number,accuracies_nn,label=\"1 hidden layer\")\n",
    "plt.plot(n_neur,accuracies_nn_2layer,label=\"2 hidden layers\")\n",
    "plt.plot(n_3layer_neurons,accuracies_3layer,label=\"3 hidden layers\")\n",
    "plt.xlabel(\"Number of Neurons\")\n",
    "plt.ylabel(\"Resulting Mean Accuracy [%]\")\n",
    "plt.title(\"Mean Accuracy vs. Number of Neurons\")\n",
    "plt.legend()\n",
    "plt.show()"
   ]
  }
 ],
 "metadata": {
  "kernelspec": {
   "display_name": "Python 3",
   "language": "python",
   "name": "python3"
  },
  "language_info": {
   "codemirror_mode": {
    "name": "ipython",
    "version": 3
   },
   "file_extension": ".py",
   "mimetype": "text/x-python",
   "name": "python",
   "nbconvert_exporter": "python",
   "pygments_lexer": "ipython3",
   "version": "3.8.8"
  }
 },
 "nbformat": 4,
 "nbformat_minor": 5
}
