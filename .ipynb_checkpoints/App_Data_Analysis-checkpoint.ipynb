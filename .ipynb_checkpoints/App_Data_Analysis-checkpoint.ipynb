{
 "cells": [
  {
   "cell_type": "markdown",
   "metadata": {},
   "source": [
    "## Analysis of AppStore and PlayStore Data\n",
    "\n",
    "Profitable App Profiles for the App Store and Google Play Markets\n",
    "\n",
    "Our aim in this project is to find mobile app profiles that are profitable for the App Store and Google Play markets. We're working as data analysts for a company that builds Android and iOS mobile apps, and our job is to enable our team of developers to make data-driven decisions with respect to the kind of apps they build.\n",
    "\n",
    "At our company, we only build apps that are free to download and install, and our main source of revenue consists of in-app ads. This means that our revenue for any given app is mostly influenced by the number of users that use our app. Our goal for this project is to analyze data to help our developers understand what kinds of apps are likely to attract more users."
   ]
  },
  {
   "cell_type": "code",
   "execution_count": 94,
   "metadata": {},
   "outputs": [],
   "source": [
    "def explore_data(dataset, start, end, rows_and_columns=False):\n",
    "    dataset_slice = dataset[start:end]    \n",
    "    for row in dataset_slice:\n",
    "        print(row)\n",
    "        print('\\n') # adds a new (empty) line after each row\n",
    "\n",
    "    if rows_and_columns:\n",
    "        print('Number of rows:', len(dataset))\n",
    "        print('Number of columns:', len(dataset[0]))"
   ]
  },
  {
   "cell_type": "markdown",
   "metadata": {},
   "source": [
    "### Loading of data sets and first expolration"
   ]
  },
  {
   "cell_type": "code",
   "execution_count": 95,
   "metadata": {},
   "outputs": [],
   "source": [
    "from csv import reader\n",
    "\n",
    "# Import the App Sotre data set\n",
    "f_1 = open(\"additional_files/AppleStore.csv\",encoding=\"utf8\")\n",
    "f_1_read = reader(f_1)\n",
    "ios_data = list(f_1_read)\n",
    "ios_header = ios_data[0]\n",
    "ios_data = ios_data[1:]\n",
    "\n",
    "# Import the Google Play data set\n",
    "f_2 = open(\"additional_files/googleplaystore.csv\",encoding=\"utf8\")\n",
    "f_2_read = reader(f_2)\n",
    "android_data = list(f_2_read)\n",
    "android_header = android_data[0]\n",
    "android_data = android_data[1:]"
   ]
  },
  {
   "cell_type": "markdown",
   "metadata": {},
   "source": [
    "First three rows of the App Store data set and the total number of rows and columns"
   ]
  },
  {
   "cell_type": "code",
   "execution_count": 96,
   "metadata": {},
   "outputs": [
    {
     "name": "stdout",
     "output_type": "stream",
     "text": [
      "['1', '281656475', 'PAC-MAN Premium', '100788224', 'USD', '3.99', '21292', '26', '4', '4.5', '6.3.5', '4+', 'Games', '38', '5', '10', '1']\n",
      "\n",
      "\n",
      "['2', '281796108', 'Evernote - stay organized', '158578688', 'USD', '0', '161065', '26', '4', '3.5', '8.2.2', '4+', 'Productivity', '37', '5', '23', '1']\n",
      "\n",
      "\n",
      "['3', '281940292', 'WeatherBug - Local Weather, Radar, Maps, Alerts', '100524032', 'USD', '0', '188583', '2822', '3.5', '4.5', '5.0.0', '4+', 'Weather', '37', '5', '3', '1']\n",
      "\n",
      "\n",
      "Number of rows: 7197\n",
      "Number of columns: 17\n"
     ]
    }
   ],
   "source": [
    "explore_data(ios_data,0,3,True)"
   ]
  },
  {
   "cell_type": "markdown",
   "metadata": {},
   "source": [
    "First three rows of the Google Play data set and the total number of rows and columns"
   ]
  },
  {
   "cell_type": "code",
   "execution_count": 97,
   "metadata": {
    "scrolled": true
   },
   "outputs": [
    {
     "name": "stdout",
     "output_type": "stream",
     "text": [
      "['Photo Editor & Candy Camera & Grid & ScrapBook', 'ART_AND_DESIGN', '4.1', '159', '19M', '10,000+', 'Free', '0', 'Everyone', 'Art & Design', 'January 7, 2018', '1.0.0', '4.0.3 and up']\n",
      "\n",
      "\n",
      "['Coloring book moana', 'ART_AND_DESIGN', '3.9', '967', '14M', '500,000+', 'Free', '0', 'Everyone', 'Art & Design;Pretend Play', 'January 15, 2018', '2.0.0', '4.0.3 and up']\n",
      "\n",
      "\n",
      "['U Launcher Lite – FREE Live Cool Themes, Hide Apps', 'ART_AND_DESIGN', '4.7', '87510', '8.7M', '5,000,000+', 'Free', '0', 'Everyone', 'Art & Design', 'August 1, 2018', '1.2.4', '4.0.3 and up']\n",
      "\n",
      "\n",
      "Number of rows: 10841\n",
      "Number of columns: 13\n"
     ]
    }
   ],
   "source": [
    "explore_data(android_data,0,3,True)"
   ]
  },
  {
   "cell_type": "markdown",
   "metadata": {},
   "source": [
    "***\n",
    "The following section shows the colmn names of the data sets"
   ]
  },
  {
   "cell_type": "code",
   "execution_count": 98,
   "metadata": {},
   "outputs": [
    {
     "name": "stdout",
     "output_type": "stream",
     "text": [
      "Column names of the App Store data set:\n",
      "['', 'id', 'track_name', 'size_bytes', 'currency', 'price', 'rating_count_tot', 'rating_count_ver', 'user_rating', 'user_rating_ver', 'ver', 'cont_rating', 'prime_genre', 'sup_devices.num', 'ipadSc_urls.num', 'lang.num', 'vpp_lic']\n",
      "\n",
      "\n",
      "Column names of the Google Play data set:\n",
      "['App', 'Category', 'Rating', 'Reviews', 'Size', 'Installs', 'Type', 'Price', 'Content Rating', 'Genres', 'Last Updated', 'Current Ver', 'Android Ver']\n"
     ]
    }
   ],
   "source": [
    "print(\"Column names of the App Store data set:\")\n",
    "print(ios_header)\n",
    "print(\"\\n\")\n",
    "print(\"Column names of the Google Play data set:\")\n",
    "print(android_header)"
   ]
  },
  {
   "cell_type": "markdown",
   "metadata": {},
   "source": [
    "### Deletion of row with inaccurate data"
   ]
  },
  {
   "cell_type": "code",
   "execution_count": 99,
   "metadata": {},
   "outputs": [
    {
     "name": "stdout",
     "output_type": "stream",
     "text": [
      "['Life Made WI-Fi Touchscreen Photo Frame', '1.9', '19', '3.0M', '1,000+', 'Free', '0', 'Everyone', '', 'February 11, 2018', '1.0.19', '4.0 and up']\n"
     ]
    }
   ],
   "source": [
    "wrong_line = android_data[10472]\n",
    "print(wrong_line)"
   ]
  },
  {
   "cell_type": "code",
   "execution_count": 100,
   "metadata": {},
   "outputs": [],
   "source": [
    "if wrong_line[0] == \"Life Made WI-Fi Touchscreen Photo Frame\":\n",
    "    del android_data[10472]"
   ]
  },
  {
   "cell_type": "code",
   "execution_count": 101,
   "metadata": {},
   "outputs": [
    {
     "name": "stdout",
     "output_type": "stream",
     "text": [
      "['osmino Wi-Fi: free WiFi', 'TOOLS', '4.2', '134203', '4.1M', '10,000,000+', 'Free', '0', 'Everyone', 'Tools', 'August 7, 2018', '6.06.14', '4.4 and up']\n"
     ]
    }
   ],
   "source": [
    "print(android_data[10472])"
   ]
  },
  {
   "cell_type": "markdown",
   "metadata": {},
   "source": [
    "### Detecting duplicates in the data sets"
   ]
  },
  {
   "cell_type": "code",
   "execution_count": 102,
   "metadata": {},
   "outputs": [
    {
     "name": "stdout",
     "output_type": "stream",
     "text": [
      "App Store:\n",
      "Number of duplicated apps: 0\n",
      "\n",
      "\n",
      "Example of duplicate apps:\n",
      " []\n"
     ]
    }
   ],
   "source": [
    "# Duplicates in App Store data set\n",
    "duplicate_apps = []\n",
    "unique_apps = []\n",
    "for app in ios_data:\n",
    "    app_id = app[1]\n",
    "    if app_id in unique_apps:\n",
    "        duplicate_apps.append(app_id)\n",
    "    else:\n",
    "        unique_apps.append(app_id)\n",
    "\n",
    "print(\"App Store:\")\n",
    "print(\"Number of duplicated apps:\",len(duplicate_apps))\n",
    "print(\"\\n\")\n",
    "print(\"Example of duplicate apps:\\n\",duplicate_apps[0:15])"
   ]
  },
  {
   "cell_type": "markdown",
   "metadata": {},
   "source": [
    "No duplicates in the App Store data set!\n",
    "***"
   ]
  },
  {
   "cell_type": "code",
   "execution_count": 103,
   "metadata": {
    "scrolled": true
   },
   "outputs": [
    {
     "name": "stdout",
     "output_type": "stream",
     "text": [
      "Google Play Store:\n",
      "Number of duplicated apps: 1181\n",
      "\n",
      "\n",
      "Example of duplicate apps:\n",
      " ['Quick PDF Scanner + OCR FREE', 'Box', 'Google My Business', 'ZOOM Cloud Meetings', 'join.me - Simple Meetings', 'Box', 'Zenefits', 'Google Ads', 'Google My Business', 'Slack', 'FreshBooks Classic', 'Insightly CRM', 'QuickBooks Accounting: Invoicing & Expenses', 'HipChat - Chat Built for Teams', 'Xero Accounting Software']\n"
     ]
    }
   ],
   "source": [
    "# Duplicates in App Store data set\n",
    "duplicate_apps = []\n",
    "unique_apps = []\n",
    "for app in android_data:\n",
    "    name = app[0]\n",
    "    if name in unique_apps:\n",
    "        duplicate_apps.append(name)\n",
    "    else:\n",
    "        unique_apps.append(name)\n",
    "\n",
    "print(\"Google Play Store:\")\n",
    "print(\"Number of duplicated apps:\",len(duplicate_apps))\n",
    "print(\"\\n\")\n",
    "print(\"Example of duplicate apps:\\n\",duplicate_apps[0:15])"
   ]
  },
  {
   "cell_type": "markdown",
   "metadata": {},
   "source": [
    "The Google Play data set has 1181 duplicates!\n",
    "***\n",
    "\n",
    "As criterion to select the duplicates which will be removed, the total number of ratings is used.\n",
    "The entry with the highest number of ratings is supposed to be the most recent one."
   ]
  },
  {
   "cell_type": "markdown",
   "metadata": {},
   "source": [
    "### Removing of the duplicates in the Google Play data set"
   ]
  },
  {
   "cell_type": "code",
   "execution_count": 104,
   "metadata": {
    "scrolled": true
   },
   "outputs": [
    {
     "name": "stdout",
     "output_type": "stream",
     "text": [
      "Expected length: 9659\n"
     ]
    }
   ],
   "source": [
    "# Determine expected lenfth of the data set afer removal\n",
    "# of duplicated data\n",
    "print(\"Expected length:\",len(android_data)- 1181)"
   ]
  },
  {
   "cell_type": "code",
   "execution_count": 105,
   "metadata": {},
   "outputs": [
    {
     "name": "stdout",
     "output_type": "stream",
     "text": [
      "Length of dictionary (9659) is as expected (9659).\n",
      "You can continue!\n"
     ]
    }
   ],
   "source": [
    "# Creating a dictionary of unique apps and their\n",
    "# max reviews\n",
    "reviews_max = {}\n",
    "for app in android_data:\n",
    "    name = app[0]\n",
    "    n_reviews = float(app[3])\n",
    "    if (name in reviews_max) and (reviews_max[name] < n_reviews):\n",
    "        reviews_max[name] = n_reviews\n",
    "    elif name not in reviews_max:\n",
    "        reviews_max[name] = n_reviews\n",
    "\n",
    "if len(reviews_max) == (len(android_data)- 1181):\n",
    "    print(\"Length of dictionary (\"+str(len(reviews_max))+\") is as expected (\"+str(len(android_data)- 1181)+\").\")\n",
    "    print(\"You can continue!\")\n",
    "elif len(reviews_max) > (len(android_data)- 1181):\n",
    "    print(\"Length of dictionary (\"+str(len(reviews_max))+\") is larger as expected (\"+str(len(android_data)- 1181)+\").\")\n",
    "    print(\"Please review your code!\")\n",
    "elif len(reviews_max) < (len(android_data)- 1181):\n",
    "    print(\"Length of dictionary (\"+str(len(reviews_max))+\") is smaller as expected (\"+str(len(android_data)- 1181)+\").\")\n",
    "    print(\"Please review your code!\")"
   ]
  },
  {
   "cell_type": "markdown",
   "metadata": {},
   "source": [
    "Now, the dictionary will be used to remove the duplicate rows:"
   ]
  },
  {
   "cell_type": "code",
   "execution_count": 106,
   "metadata": {},
   "outputs": [],
   "source": [
    "android_clean = []\n",
    "already_added = []\n",
    "for app in android_data:\n",
    "    name = app[0]\n",
    "    n_reviews = float(app[3])\n",
    "    if (n_reviews == reviews_max[name]) and (name not in already_added):\n",
    "        android_clean.append(app)\n",
    "        already_added.append(name)\n"
   ]
  },
  {
   "cell_type": "markdown",
   "metadata": {},
   "source": [
    "For further analysis, we have now a clean data set `android_clean`."
   ]
  },
  {
   "cell_type": "markdown",
   "metadata": {},
   "source": [
    "### Removing of non-english apps\n",
    "\n",
    "We have to detekt non-english characters in the app names.\n",
    "\n",
    "Therefore we write the function `isEnglish`.\n",
    "\n",
    "This function returns `False` in case at leased four character of the input string are considered as non-englisch (ASCII code higher than 127).\n",
    "Otherwise, the function returns `True`."
   ]
  },
  {
   "cell_type": "code",
   "execution_count": 107,
   "metadata": {},
   "outputs": [],
   "source": [
    "def isEnglish(in_str):\n",
    "    non_char_num = 0\n",
    "    for char in in_str:\n",
    "        char_num = ord(char)\n",
    "        if char_num > 127:\n",
    "            non_char_num += 1\n",
    "        if non_char_num > 3:\n",
    "            return False\n",
    "    return True"
   ]
  },
  {
   "cell_type": "markdown",
   "metadata": {},
   "source": [
    "Filtering of the Google Play data set:"
   ]
  },
  {
   "cell_type": "code",
   "execution_count": 108,
   "metadata": {},
   "outputs": [
    {
     "name": "stdout",
     "output_type": "stream",
     "text": [
      "Number of reamining apps: 9615\n",
      "Number of filtered apps: 44\n"
     ]
    }
   ],
   "source": [
    "index = 0\n",
    "non_english_apps = []\n",
    "for app in android_clean:\n",
    "    name = app[0]\n",
    "    if (isEnglish(name)==False):\n",
    "        non_english_apps.append(app)\n",
    "        del android_clean[index]\n",
    "    index += 1\n",
    "\n",
    "print(\"Number of reamining apps: \"+str(len(android_clean)))\n",
    "print(\"Number of filtered apps: \"+str(len(non_english_apps)))"
   ]
  },
  {
   "cell_type": "markdown",
   "metadata": {},
   "source": [
    "***\n",
    "### Isolation of free apps"
   ]
  },
  {
   "cell_type": "markdown",
   "metadata": {},
   "source": [
    "Free apps in App Store data set:"
   ]
  },
  {
   "cell_type": "code",
   "execution_count": 118,
   "metadata": {},
   "outputs": [],
   "source": [
    "free_ios_apps = []\n",
    "for app in ios_data:\n",
    "    price = app[5]\n",
    "    if price == '0':\n",
    "        free_ios_apps.append(app)"
   ]
  },
  {
   "cell_type": "markdown",
   "metadata": {},
   "source": [
    "Free apps in Google Play data set:"
   ]
  },
  {
   "cell_type": "code",
   "execution_count": 122,
   "metadata": {},
   "outputs": [],
   "source": [
    "free_android_apps = []\n",
    "for app in android_clean:\n",
    "    price = app[7]\n",
    "    if price == '0':\n",
    "        free_android_apps.append(app)"
   ]
  },
  {
   "cell_type": "markdown",
   "metadata": {},
   "source": [
    "***\n",
    "### Creation of frequency tables to analyse the markets"
   ]
  },
  {
   "cell_type": "markdown",
   "metadata": {},
   "source": [
    "Because our end goal is to add the app on both Google Play and the App Store, we need to find app profiles that are successful on both markets.\n",
    "\n",
    "Let's begin the analysis by getting a sense of what are the most common genres for each market using frequency tables.\n",
    "\n",
    "First, we define some functions for this task:"
   ]
  },
  {
   "cell_type": "code",
   "execution_count": 126,
   "metadata": {},
   "outputs": [],
   "source": [
    "def freq_table(dataset,index):\n",
    "    table = {}\n",
    "    total = 0\n",
    "    \n",
    "    for row in dataset:\n",
    "        total += 1\n",
    "        value = row[index]\n",
    "        if value in table:\n",
    "            table[value] += 1\n",
    "        else:\n",
    "            table[value] = 1\n",
    "    \n",
    "    table_percentages = {}\n",
    "    for key in table:\n",
    "        percentage = (table[key] / total) * 100\n",
    "        table_percentages[key] = percentage\n",
    "    \n",
    "    return table_percentages\n",
    "\n",
    "\n",
    "def display_table(dataset,index):\n",
    "    table = freq_table(dataset, index)\n",
    "    table_display = []\n",
    "    for key in table:\n",
    "        key_val_as_tuple = (table[key],key)\n",
    "        table_display.append(key_val_as_tuple)\n",
    "    \n",
    "    table_sorted = sorted(table_display, reverse = True)\n",
    "    \n",
    "    for entry in table_sorted:\n",
    "        print(entry[1],\":\",entry[0])"
   ]
  },
  {
   "cell_type": "markdown",
   "metadata": {},
   "source": [
    "***\n",
    "Frequency table for the App Store genres (prime_genre):"
   ]
  },
  {
   "cell_type": "code",
   "execution_count": 127,
   "metadata": {},
   "outputs": [
    {
     "name": "stdout",
     "output_type": "stream",
     "text": [
      "Games : 55.64595660749507\n",
      "Entertainment : 8.234714003944774\n",
      "Photo & Video : 4.117357001972387\n",
      "Social Networking : 3.5256410256410255\n",
      "Education : 3.2544378698224854\n",
      "Shopping : 2.983234714003945\n",
      "Utilities : 2.687376725838264\n",
      "Lifestyle : 2.3175542406311638\n",
      "Finance : 2.0710059171597637\n",
      "Sports : 1.947731755424063\n",
      "Health & Fitness : 1.8737672583826428\n",
      "Music : 1.6518737672583828\n",
      "Book : 1.6272189349112427\n",
      "Productivity : 1.5285996055226825\n",
      "News : 1.4299802761341223\n",
      "Travel : 1.3806706114398422\n",
      "Food & Drink : 1.0601577909270217\n",
      "Weather : 0.7642998027613412\n",
      "Reference : 0.4930966469428008\n",
      "Navigation : 0.4930966469428008\n",
      "Business : 0.4930966469428008\n",
      "Catalogs : 0.22189349112426035\n",
      "Medical : 0.19723865877712032\n"
     ]
    }
   ],
   "source": [
    "display_table(free_ios_apps,12)"
   ]
  },
  {
   "cell_type": "markdown",
   "metadata": {},
   "source": [
    "***\n",
    "Frequency table for the Google Play genres (Category):"
   ]
  },
  {
   "cell_type": "code",
   "execution_count": 135,
   "metadata": {},
   "outputs": [
    {
     "name": "stdout",
     "output_type": "stream",
     "text": [
      "FAMILY : 18.917089678510997\n",
      "GAME : 9.723632261703328\n",
      "TOOLS : 8.460236886632826\n",
      "BUSINESS : 4.591088550479413\n",
      "LIFESTYLE : 3.902989283699944\n",
      "PRODUCTIVITY : 3.8917089678511\n",
      "FINANCE : 3.699943598420756\n",
      "MEDICAL : 3.5307388606880994\n",
      "SPORTS : 3.395375070501974\n",
      "PERSONALIZATION : 3.3164128595600673\n",
      "COMMUNICATION : 3.2374506486181613\n",
      "HEALTH_AND_FITNESS : 3.0795262267343486\n",
      "PHOTOGRAPHY : 2.9441624365482233\n",
      "NEWS_AND_MAGAZINES : 2.7975183305132543\n",
      "SOCIAL : 2.662154540327129\n",
      "TRAVEL_AND_LOCAL : 2.33502538071066\n",
      "SHOPPING : 2.2447828539199097\n",
      "BOOKS_AND_REFERENCE : 2.143260011280316\n",
      "DATING : 1.8612521150592216\n",
      "VIDEO_PLAYERS : 1.793570219966159\n",
      "MAPS_AND_NAVIGATION : 1.3987591652566271\n",
      "FOOD_AND_DRINK : 1.2408347433728144\n",
      "EDUCATION : 1.161872532430908\n",
      "ENTERTAINMENT : 0.9588268471517203\n",
      "LIBRARIES_AND_DEMO : 0.9362662154540328\n",
      "AUTO_AND_VEHICLES : 0.924985899605189\n",
      "HOUSE_AND_HOME : 0.8234630569655951\n",
      "WEATHER : 0.8009024252679076\n",
      "EVENTS : 0.7106598984771574\n",
      "PARENTING : 0.6542583192329385\n",
      "ART_AND_DESIGN : 0.6429780033840948\n",
      "COMICS : 0.6204173716864072\n",
      "BEAUTY : 0.5978567399887197\n"
     ]
    }
   ],
   "source": [
    "display_table(free_android_apps,1)"
   ]
  },
  {
   "cell_type": "markdown",
   "metadata": {},
   "source": [
    "***\n",
    "### Further analysis of the data sets"
   ]
  },
  {
   "cell_type": "markdown",
   "metadata": {},
   "source": [
    "Mean user rating for each genre in the App Store data set:"
   ]
  },
  {
   "cell_type": "code",
   "execution_count": 132,
   "metadata": {},
   "outputs": [
    {
     "name": "stdout",
     "output_type": "stream",
     "text": [
      "Productivity : 19053.887096774193\n",
      "Weather : 47220.93548387097\n",
      "Shopping : 18746.677685950413\n",
      "Reference : 67447.9\n",
      "Finance : 13522.261904761905\n",
      "Music : 56482.02985074627\n",
      "Utilities : 14010.100917431193\n",
      "Travel : 20216.01785714286\n",
      "Social Networking : 53078.195804195806\n",
      "Sports : 20128.974683544304\n",
      "Health & Fitness : 19952.315789473683\n",
      "Games : 18924.68896765618\n",
      "Food & Drink : 20179.093023255813\n",
      "News : 15892.724137931034\n",
      "Book : 8498.333333333334\n",
      "Photo & Video : 27249.892215568863\n",
      "Entertainment : 10822.961077844311\n",
      "Business : 6367.8\n",
      "Lifestyle : 8978.308510638299\n",
      "Education : 6266.333333333333\n",
      "Navigation : 25972.05\n",
      "Medical : 459.75\n",
      "Catalogs : 1779.5555555555557\n"
     ]
    }
   ],
   "source": [
    "ios_genres = freq_table(free_ios_apps,12)\n",
    "for genre in ios_genres:\n",
    "    total = 0\n",
    "    len_genre = 0\n",
    "    for row in free_ios_apps:\n",
    "        genre_app = row[12]\n",
    "        if genre_app == genre:\n",
    "            num_ratings = float(row[6])\n",
    "            total += num_ratings\n",
    "            len_genre += 1\n",
    "    avg_num = total / len_genre\n",
    "    print(genre,\":\",avg_num)"
   ]
  },
  {
   "cell_type": "markdown",
   "metadata": {},
   "source": [
    "According to the analized data set, the best app profile for the App Store is a social networking app (3.52% with a mean rating number of 53078.20)."
   ]
  },
  {
   "cell_type": "markdown",
   "metadata": {},
   "source": [
    "***\n",
    "Frequency table of installations for the Google Play data set:"
   ]
  },
  {
   "cell_type": "code",
   "execution_count": 134,
   "metadata": {},
   "outputs": [
    {
     "name": "stdout",
     "output_type": "stream",
     "text": [
      "1,000,000+ : 14.7061882475299\n",
      "100,000+ : 11.513260530421217\n",
      "10,000+ : 10.618824752990118\n",
      "10,000,000+ : 9.745189807592304\n",
      "1,000+ : 9.152366094643785\n",
      "100+ : 7.321892875715029\n",
      "5,000,000+ : 6.292251690067603\n",
      "500,000+ : 5.241809672386895\n",
      "5,000+ : 4.83619344773791\n",
      "50,000+ : 4.815392615704628\n",
      "10+ : 3.9937597503900157\n",
      "500+ : 3.4113364534581385\n",
      "50,000,000+ : 2.1216848673946958\n",
      "50+ : 2.1216848673946958\n",
      "100,000,000+ : 1.9656786271450857\n",
      "5+ : 0.8528341133645346\n",
      "1+ : 0.6864274570982839\n",
      "500,000,000+ : 0.24960998439937598\n",
      "1,000,000,000+ : 0.20800832033281333\n",
      "0+ : 0.13520540821632865\n",
      "0 : 0.010400416016640665\n"
     ]
    }
   ],
   "source": [
    "display_table(android_clean,5)"
   ]
  },
  {
   "cell_type": "markdown",
   "metadata": {},
   "source": [
    "Converting rating number strings to numbers:"
   ]
  },
  {
   "cell_type": "code",
   "execution_count": 136,
   "metadata": {},
   "outputs": [
    {
     "name": "stdout",
     "output_type": "stream",
     "text": [
      "ART_AND_DESIGN : 1986335.0877192982\n",
      "AUTO_AND_VEHICLES : 647317.8170731707\n",
      "BEAUTY : 513151.88679245283\n",
      "BOOKS_AND_REFERENCE : 8767811.894736841\n",
      "BUSINESS : 1712290.1474201474\n",
      "COMICS : 817657.2727272727\n",
      "COMMUNICATION : 38456119.167247385\n",
      "DATING : 854028.8303030303\n",
      "EDUCATION : 1833495.145631068\n",
      "ENTERTAINMENT : 11640705.88235294\n",
      "EVENTS : 253542.22222222222\n",
      "FINANCE : 1387692.475609756\n",
      "FOOD_AND_DRINK : 1924897.7363636363\n",
      "HEALTH_AND_FITNESS : 4188821.9853479853\n",
      "HOUSE_AND_HOME : 1331540.5616438356\n",
      "LIBRARIES_AND_DEMO : 638503.734939759\n",
      "LIFESTYLE : 1437816.2687861272\n",
      "GAME : 15588015.603248259\n",
      "FAMILY : 3693497.7280858676\n",
      "MEDICAL : 120550.61980830671\n",
      "SOCIAL : 23253652.127118643\n",
      "SHOPPING : 7036877.311557789\n",
      "PHOTOGRAPHY : 17840110.40229885\n",
      "SPORTS : 3638640.1428571427\n",
      "TRAVEL_AND_LOCAL : 13984077.710144928\n",
      "TOOLS : 10801391.298666667\n",
      "PERSONALIZATION : 5201482.6122448975\n",
      "PRODUCTIVITY : 16787331.344927534\n",
      "PARENTING : 542603.6206896552\n",
      "WEATHER : 5074486.197183099\n",
      "VIDEO_PLAYERS : 24727872.452830188\n",
      "NEWS_AND_MAGAZINES : 9549178.467741935\n",
      "MAPS_AND_NAVIGATION : 4056941.7741935486\n"
     ]
    }
   ],
   "source": [
    "categories = freq_table(free_android_apps,1)\n",
    "for category in categories:\n",
    "    total = 0\n",
    "    len_category = 0\n",
    "    for row in free_android_apps:\n",
    "        category_app = row[1]\n",
    "        if category_app == category:\n",
    "            installs = row[5]\n",
    "            installs = installs.replace(\"+\",\"\")\n",
    "            installs = installs.replace(\",\",\"\")\n",
    "            total += float(installs)\n",
    "            len_category += 1\n",
    "    avg_inst = total / len_category\n",
    "    print(category,\":\",avg_inst)"
   ]
  }
 ],
 "metadata": {
  "kernelspec": {
   "display_name": "Python 3",
   "language": "python",
   "name": "python3"
  },
  "language_info": {
   "codemirror_mode": {
    "name": "ipython",
    "version": 3
   },
   "file_extension": ".py",
   "mimetype": "text/x-python",
   "name": "python",
   "nbconvert_exporter": "python",
   "pygments_lexer": "ipython3",
   "version": "3.7.9"
  }
 },
 "nbformat": 4,
 "nbformat_minor": 4
}
