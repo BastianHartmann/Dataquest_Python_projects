{
 "cells": [
  {
   "cell_type": "markdown",
   "metadata": {},
   "source": [
    "# Exploring Hacker News Posts"
   ]
  },
  {
   "cell_type": "markdown",
   "metadata": {},
   "source": [
    "### Loading of the data set\n",
    "\n",
    "Load the data set about the Hacker News posts for the csv file `HM_posts_year_to_Sep_26_2016.csv`.\n",
    "Afterward, the first five rows of the data set are printed to get an first overview."
   ]
  },
  {
   "cell_type": "code",
   "execution_count": 7,
   "metadata": {},
   "outputs": [
    {
     "name": "stdout",
     "output_type": "stream",
     "text": [
      "['id', 'title', 'url', 'num_points', 'num_comments', 'author', 'created_at']\n",
      "\n",
      "\n",
      "['12579008', 'You have two days to comment if you want stem cells to be classified as your own', 'http://www.regulations.gov/document?D=FDA-2015-D-3719-0018', '1', '0', 'altstar', '9/26/2016 3:26']\n",
      "\n",
      "\n",
      "['12579005', 'SQLAR  the SQLite Archiver', 'https://www.sqlite.org/sqlar/doc/trunk/README.md', '1', '0', 'blacksqr', '9/26/2016 3:24']\n",
      "\n",
      "\n",
      "['12578997', 'What if we just printed a flatscreen television on the side of our boxes?', 'https://medium.com/vanmoof/our-secrets-out-f21c1f03fdc8#.ietxmez43', '1', '0', 'pavel_lishin', '9/26/2016 3:19']\n",
      "\n",
      "\n",
      "['12578989', 'algorithmic music', 'http://cacm.acm.org/magazines/2011/7/109891-algorithmic-composition/fulltext', '1', '0', 'poindontcare', '9/26/2016 3:16']\n",
      "\n",
      "\n"
     ]
    }
   ],
   "source": [
    "from csv import reader\n",
    "\n",
    "file_op = open(\"additional_files/HN_posts_year_to_Sep_26_2016.csv\",encoding=\"utf8\")\n",
    "file_rd = reader(file_op,)\n",
    "hn = list(file_rd)\n",
    "\n",
    "for i in range(0,5):\n",
    "    print(hn[i])\n",
    "    print(\"\\n\")"
   ]
  },
  {
   "cell_type": "markdown",
   "metadata": {},
   "source": [
    "Because the first row of the data set containes the header line, we separate it from the data and store it in the `headers` variable."
   ]
  },
  {
   "cell_type": "code",
   "execution_count": 8,
   "metadata": {},
   "outputs": [],
   "source": [
    "headers = hn[0]\n",
    "hn = hn[1:]"
   ]
  },
  {
   "cell_type": "markdown",
   "metadata": {},
   "source": [
    "***\n",
    "### Filtering of data of intrest\n",
    "\n",
    "We create three lists called `ask_posts`, `show_posts`, and `other_posts`, that contain only the posts starting with \"ask hn\", show hn or all other posts, respectively."
   ]
  },
  {
   "cell_type": "code",
   "execution_count": 12,
   "metadata": {},
   "outputs": [
    {
     "name": "stdout",
     "output_type": "stream",
     "text": [
      "('total length of data set:', 293119)\n",
      "\n",
      "\n",
      "('length of ask_posts:', 9139)\n",
      "('length of show_posts:', 10158)\n",
      "('length of other_posts:', 273822)\n"
     ]
    }
   ],
   "source": [
    "ask_posts = []\n",
    "show_posts = []\n",
    "other_posts = []\n",
    "\n",
    "print((\"total length of data set:\",len(hn)))\n",
    "print(\"\\n\")\n",
    "\n",
    "for row in hn:\n",
    "    name = row[1]\n",
    "    name = name.lower()\n",
    "    if name.startswith(\"ask hn\"):\n",
    "        ask_posts.append(row)\n",
    "    elif name.startswith(\"show hn\"):\n",
    "        show_posts.append(row)\n",
    "    else:\n",
    "        other_posts.append(row)\n",
    "print((\"length of ask_posts:\",len(ask_posts)))\n",
    "print((\"length of show_posts:\",len(show_posts)))\n",
    "print((\"length of other_posts:\",len(other_posts)))"
   ]
  },
  {
   "cell_type": "markdown",
   "metadata": {},
   "source": [
    "***\n",
    "### Analysis: Do **'ask posts'** or **'show posts'** receive more comments on average?"
   ]
  },
  {
   "cell_type": "code",
   "execution_count": 17,
   "metadata": {},
   "outputs": [
    {
     "name": "stdout",
     "output_type": "stream",
     "text": [
      "Average number of comments on 'ask hn' posts is 10.39\n",
      "Average number of comments on 'show hn' posts is 4.89\n"
     ]
    }
   ],
   "source": [
    "total_ask_comments = 0\n",
    "\n",
    "for row in ask_posts:\n",
    "    num_comm = int(row[4])\n",
    "    total_ask_comments += num_comm\n",
    "    \n",
    "avg_ask_comments = total_ask_comments/len(ask_posts)\n",
    "print(\"Average number of comments on 'ask hn' posts is {:.2f}\".format(avg_ask_comments))\n",
    "\n",
    "total_show_comments = 0\n",
    "\n",
    "for row in show_posts:\n",
    "    num_comm = int(row[4])\n",
    "    total_show_comments += num_comm\n",
    "\n",
    "avg_show_comments = total_show_comments/len(show_posts)\n",
    "print(\"Average number of comments on 'show hn' posts is {:.2f}\".format(avg_show_comments))"
   ]
  },
  {
   "cell_type": "markdown",
   "metadata": {},
   "source": [
    "Therefore we can conclude, that **'ask posts'** get more comments on average compared to **'show posts'**."
   ]
  },
  {
   "cell_type": "markdown",
   "metadata": {},
   "source": [
    "***\n",
    "### Further Analysis of ask posts\n",
    "\n",
    "Next, we'll determine if ask posts created at a certain time are more likely to attract comments."
   ]
  },
  {
   "cell_type": "code",
   "execution_count": 24,
   "metadata": {},
   "outputs": [
    {
     "name": "stdout",
     "output_type": "stream",
     "text": [
      "{'02': 269, '01': 282, '22': 383, '21': 518, '19': 552, '17': 587, '15': 646, '14': 513, '13': 444, '11': 312, '10': 282, '09': 222, '07': 226, '03': 271, '23': 343, '20': 510, '16': 579, '08': 257, '00': 301, '18': 614, '12': 342, '04': 243, '06': 234, '05': 209}\n",
      "\n",
      "\n",
      "{'02': 2996, '01': 2089, '22': 3372, '21': 4500, '19': 3954, '17': 5547, '15': 18525, '14': 4972, '13': 7245, '11': 2797, '10': 3013, '09': 1477, '07': 1585, '03': 2154, '23': 2297, '20': 4462, '16': 4466, '08': 2362, '00': 2277, '18': 4877, '12': 4234, '04': 2360, '06': 1587, '05': 1838}\n",
      "\n",
      "\n",
      "[['02', 11.137546468401487], ['01', 7.407801418439717], ['22', 8.804177545691905], ['21', 8.687258687258687], ['19', 7.163043478260869], ['17', 9.449744463373083], ['15', 28.676470588235293], ['14', 9.692007797270955], ['13', 16.31756756756757], ['11', 8.96474358974359], ['10', 10.684397163120567], ['09', 6.653153153153153], ['07', 7.013274336283186], ['03', 7.948339483394834], ['23', 6.696793002915452], ['20', 8.749019607843136], ['16', 7.713298791018998], ['08', 9.190661478599221], ['00', 7.5647840531561465], ['18', 7.94299674267101], ['12', 12.380116959064328], ['04', 9.7119341563786], ['06', 6.782051282051282], ['05', 8.794258373205741]]\n"
     ]
    }
   ],
   "source": [
    "import datetime as dt\n",
    "\n",
    "result_list = []\n",
    "\n",
    "for row in ask_posts:\n",
    "    created_at = row[6]\n",
    "    post_num = row[4]\n",
    "    result_list.append([created_at,post_num])\n",
    "\n",
    "counts_by_hour = {}\n",
    "comments_by_hour = {}\n",
    "\n",
    "for elem in result_list:\n",
    "    dt_obj = dt.datetime.strptime(elem[0],\"%m/%d/%Y %H:%M\")\n",
    "    curr_hour = dt_obj.strftime(\"%H\")\n",
    "    if curr_hour not in counts_by_hour:\n",
    "        counts_by_hour[curr_hour] = 1\n",
    "        comments_by_hour[curr_hour] = int(elem[1])\n",
    "    else:\n",
    "        counts_by_hour[curr_hour] += 1\n",
    "        comments_by_hour[curr_hour] += int(elem[1])\n",
    "\n",
    "print(counts_by_hour)\n",
    "print(\"\\n\")\n",
    "print(comments_by_hour)\n",
    "print(\"\\n\")\n",
    "\n",
    "avg_by_hour = []\n",
    "for key in counts_by_hour:\n",
    "    frequ = counts_by_hour[key]\n",
    "    comm_num = comments_by_hour[key]\n",
    "    avg_by_hour.append([key,comm_num/frequ])\n",
    "\n",
    "print(avg_by_hour)"
   ]
  },
  {
   "cell_type": "markdown",
   "metadata": {},
   "source": [
    "For better visualisation we now want to sort the results from highest to lowest average."
   ]
  },
  {
   "cell_type": "code",
   "execution_count": 32,
   "metadata": {},
   "outputs": [
    {
     "name": "stdout",
     "output_type": "stream",
     "text": [
      "Top 5 Hours for Ask Posts Comments\n",
      "15:00: 28.68 average comments per post\n",
      "13:00: 16.32 average comments per post\n",
      "12:00: 12.38 average comments per post\n",
      "02:00: 11.14 average comments per post\n",
      "10:00: 10.68 average comments per post\n"
     ]
    }
   ],
   "source": [
    "swap_avg_by_hour = []\n",
    "for elem in avg_by_hour:\n",
    "    swap_avg_by_hour.append([elem[1],elem[0]])\n",
    "\n",
    "sorted_swap = sorted(swap_avg_by_hour,reverse=True)\n",
    "print( \"Top 5 Hours for Ask Posts Comments\")\n",
    "for elem in sorted_swap[0:5]:\n",
    "    dt_obj = dt.datetime.strptime(elem[1],\"%H\")\n",
    "    clock = dt_obj.strftime(\"%H:%M\")\n",
    "    print(\"{}: {:.2f} average comments per post\".format(clock,elem[0]))"
   ]
  },
  {
   "cell_type": "markdown",
   "metadata": {},
   "source": [
    "### Conclusion\n",
    "\n",
    "In summary, the best time fram to post an 'ask hn' post ist between **12:00 and 15:00** o'clock!"
   ]
  }
 ],
 "metadata": {
  "kernelspec": {
   "display_name": "Python 3",
   "language": "python",
   "name": "python3"
  },
  "language_info": {
   "codemirror_mode": {
    "name": "ipython",
    "version": 3
   },
   "file_extension": ".py",
   "mimetype": "text/x-python",
   "name": "python",
   "nbconvert_exporter": "python",
   "pygments_lexer": "ipython3",
   "version": "3.7.9"
  }
 },
 "nbformat": 4,
 "nbformat_minor": 4
}
